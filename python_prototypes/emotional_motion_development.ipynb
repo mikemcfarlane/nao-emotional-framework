{
 "metadata": {
  "name": "",
  "signature": "sha256:cde12e18b49b6e72d122daf0c20504c7b894b73516faab053bb8229112e85d89"
 },
 "nbformat": 3,
 "nbformat_minor": 0,
 "worksheets": [
  {
   "cells": [
    {
     "cell_type": "heading",
     "level": 1,
     "metadata": {},
     "source": [
      "Emotional motion development notes"
     ]
    },
    {
     "cell_type": "code",
     "collapsed": false,
     "input": [],
     "language": "python",
     "metadata": {},
     "outputs": []
    }
   ],
   "metadata": {}
  }
 ]
}